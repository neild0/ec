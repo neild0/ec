{
 "cells": [
  {
   "cell_type": "code",
   "execution_count": 9,
   "metadata": {
    "collapsed": true
   },
   "outputs": [
    {
     "name": "stderr",
     "output_type": "stream",
     "text": [
      "/usr/local/Caskroom/miniconda/base/lib/python3.8/site-packages/urllib3/connectionpool.py:1045: InsecureRequestWarning: Unverified HTTPS request is being made to host 'humancyc.org'. Adding certificate verification is strongly advised. See: https://urllib3.readthedocs.io/en/1.26.x/advanced-usage.html#ssl-warnings\n",
      "  warnings.warn(\n",
      "Processing OWL elements: 100%|██████████| 24.0/24.0 [02:22<00:00, 5.93s/it]\n"
     ]
    }
   ],
   "source": [
    "import pybiopax\n",
    "\n",
    "data = pybiopax.model_from_humancyc(\"PWY66-341\")"
   ]
  },
  {
   "cell_type": "code",
   "execution_count": null,
   "outputs": [
    {
     "name": "stderr",
     "output_type": "stream",
     "text": [
      "Processing OWL elements:  19%|█▉        | 727k/3.75M [02:51<10:30, 4.79kit/s] "
     ]
    }
   ],
   "source": [
    "import pystow\n",
    "def ensure_pc_detailed(version, force: bool = False):\n",
    "    if version is None:\n",
    "        import bioversions\n",
    "\n",
    "        version = bioversions.get_version(\"pathwaycommons\")\n",
    "\n",
    "    url = f\"https://www.pathwaycommons.org/archives/PC2/v{version}/PathwayCommons{version}.Detailed.BIOPAX.owl.gz\"\n",
    "    path = pystow.ensure(\"bio\", \"pathwaycommons\", version, url=url)\n",
    "    return pybiopax.model_from_owl_gz(path)\n",
    "\n",
    "pc12 = ensure_pc_detailed(version=\"12\")"
   ],
   "metadata": {
    "collapsed": false,
    "pycharm": {
     "is_executing": true
    }
   }
  },
  {
   "cell_type": "code",
   "execution_count": 6,
   "outputs": [],
   "source": [
    "from pybiopax.biopax import *\n",
    "from language import *"
   ],
   "metadata": {
    "collapsed": false
   }
  },
  {
   "cell_type": "code",
   "execution_count": 7,
   "outputs": [
    {
     "name": "stdout",
     "output_type": "stream",
     "text": [
      "4&alpha;-methyl-zymosterol + NADP<sup>+</sup> -> H<SUP>+</SUP> + 3-dehydro-4-methylzymosterol + NADPH (4&alpha;-methylzymosterol 3-dehydrogenase)\n",
      "lathosterol + a ferrocytochrome <i>b<SUB>5</SUB></i> + dioxygen + H<SUP>+</SUP> -> 7-dehydrocholesterol + a ferricytochrome <i>b<sub>5</sub></i> + H<sub>2</sub>O (5&alpha;-cholest-7-en-3&beta;-ol,NAD(P)H:oxygen 5-oxidoreductase)\n",
      "zymosterol + NADP<sup>+</sup> -> H<SUP>+</SUP> + zymosterone + NADPH (5&alpha;-cholesta-8,24-dien-3-one reductase)\n",
      "4&alpha;-carboxy-5&alpha;-cholesta-8,24-dien-3&beta;-ol + NAD(P)<sup>+</sup> -> zymosterone + NAD(P)H + CO<SUB>2</SUB> (4&alpha;-carboxy-5&alpha;-cholesta-8,24-dien-3&beta;-ol:NAD(P)+ 3-oxidoreductase)\n",
      "4&alpha;-carboxy-4&beta;-methyl-5&alpha;-cholesta-8,24-dien-3&beta;-ol + NAD(P)<sup>+</sup> -> 3-dehydro-4-methylzymosterol + NAD(P)H + CO<SUB>2</SUB> (4&alpha;-carboxy-4&beta;-methyl-5&alpha;-cholesta-8,24-dien-3&beta;-ol:NAD(P)+ 3-oxidoreductase)\n",
      "squalene + dioxygen + a reduced [NADPH-hemoprotein reductase] -> (3<i>S</i>)-2,3-epoxy-2,3-dihydrosqualene + H<sub>2</sub>O + an oxidized [NADPH-hemoprotein reductase] (squalene monooxygenase)\n",
      "squalene + dioxygen + a reduced [NADPH-hemoprotein reductase] -> (3<i>S</i>)-2,3-epoxy-2,3-dihydrosqualene + H<sub>2</sub>O + an oxidized [NADPH-hemoprotein reductase] (squalene monooxygenase)\n",
      "(2<i>E</i>,6<i>E</i>)-farnesyl diphosphate -> presqualene diphosphate + diphosphate (farnesyl-diphosphate:farnesyl-diphosphate farnesyltransferase)\n",
      "presqualene diphosphate + NAD(P)H + H<SUP>+</SUP> -> squalene + NAD(P)<sup>+</sup> + diphosphate (presqualene diphosphate:farnesyl-diphosphate farnesyltransferase)\n",
      "(3<i>S</i>)-2,3-epoxy-2,3-dihydrosqualene -> lanosterol (lanosterol synthase)\n"
     ]
    }
   ],
   "source": [
    "prot_data = ProteinSet()\n",
    "for obj in data.get_objects_by_type(Catalysis):\n",
    "    reaction = BioChemReaction(obj)\n",
    "    prot_data.add_reaction(reaction)"
   ],
   "metadata": {
    "collapsed": false
   }
  },
  {
   "cell_type": "code",
   "execution_count": null,
   "outputs": [],
   "source": [
    "\""
   ],
   "metadata": {
    "collapsed": false
   }
  }
 ],
 "metadata": {
  "kernelspec": {
   "display_name": "Python 3",
   "language": "python",
   "name": "python3"
  },
  "language_info": {
   "codemirror_mode": {
    "name": "ipython",
    "version": 2
   },
   "file_extension": ".py",
   "mimetype": "text/x-python",
   "name": "python",
   "nbconvert_exporter": "python",
   "pygments_lexer": "ipython2",
   "version": "2.7.6"
  }
 },
 "nbformat": 4,
 "nbformat_minor": 0
}
