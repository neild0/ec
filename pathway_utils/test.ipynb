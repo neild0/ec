{
 "cells": [
  {
   "cell_type": "code",
   "execution_count": 96,
   "metadata": {
    "collapsed": true
   },
   "outputs": [
    {
     "name": "stderr",
     "output_type": "stream",
     "text": [
      "/usr/local/Caskroom/miniconda/base/lib/python3.8/site-packages/urllib3/connectionpool.py:1045: InsecureRequestWarning: Unverified HTTPS request is being made to host 'humancyc.org'. Adding certificate verification is strongly advised. See: https://urllib3.readthedocs.io/en/1.26.x/advanced-usage.html#ssl-warnings\n",
      "  warnings.warn(\n",
      "Processing OWL elements: 100%|██████████| 23.0/23.0 [00:00<00:00, 444it/s]\n"
     ]
    }
   ],
   "source": [
    "import pybiopax\n",
    "\n",
    "model = pybiopax.model_from_humancyc(\"PWY66-398\")"
   ]
  },
  {
   "cell_type": "code",
   "execution_count": 167,
   "outputs": [
    {
     "name": "stdout",
     "output_type": "stream",
     "text": [
      "SmallMolecule95213\n",
      "SmallMoleculeReference95197\n",
      "SmallMolecule95283\n",
      "SmallMoleculeReference95269\n",
      "SmallMolecule95300\n",
      "SmallMoleculeReference95286\n",
      "SmallMolecule95718\n",
      "SmallMoleculeReference95701\n",
      "SmallMolecule95249\n",
      "SmallMoleculeReference95234\n",
      "BiochemicalPathwayStep95697\n",
      "BiochemicalPathwayStep95191\n",
      "BiochemicalPathwayStep95631\n",
      "SmallMolecule95669\n",
      "SmallMoleculeReference95653\n",
      "SmallMolecule95650\n",
      "SmallMoleculeReference95635\n",
      "SmallMolecule95392\n",
      "SmallMoleculeReference95378\n",
      "Pathway95182\n"
     ]
    }
   ],
   "source": [
    "x = set()\n",
    "for obj in model.objects:\n",
    "    if \"http\" not in obj:\n",
    "        x.add(obj.split('_')[0])\n",
    "    if \"pathway\" in obj.lower() or \"step\" in obj.lower():\n",
    "        print(obj)\n",
    "    if \"Small\" in obj:\n",
    "        print(obj)"
   ],
   "metadata": {
    "collapsed": false
   }
  },
  {
   "cell_type": "markdown",
   "source": [],
   "metadata": {
    "collapsed": false
   }
  },
  {
   "cell_type": "code",
   "execution_count": 175,
   "outputs": [
    {
     "ename": "KeyError",
     "evalue": "'SmallMolecule95231'",
     "output_type": "error",
     "traceback": [
      "\u001B[0;31m---------------------------------------------------------------------------\u001B[0m",
      "\u001B[0;31mKeyError\u001B[0m                                  Traceback (most recent call last)",
      "\u001B[0;32m/var/folders/ck/2rghhzss35l9n7p_pprbznjm0000gn/T/ipykernel_7441/965682561.py\u001B[0m in \u001B[0;36m<module>\u001B[0;34m\u001B[0m\n\u001B[0;32m----> 1\u001B[0;31m \u001B[0mmodel\u001B[0m\u001B[0;34m.\u001B[0m\u001B[0mobjects\u001B[0m\u001B[0;34m[\u001B[0m\u001B[0;34m\"SmallMolecule95231\"\u001B[0m\u001B[0;34m]\u001B[0m\u001B[0;34m\u001B[0m\u001B[0;34m\u001B[0m\u001B[0m\n\u001B[0m",
      "\u001B[0;31mKeyError\u001B[0m: 'SmallMolecule95231'"
     ]
    }
   ],
   "source": [
    "model.objects[\"SmallMolecule95231\"]"
   ],
   "metadata": {
    "collapsed": false
   }
  },
  {
   "cell_type": "code",
   "execution_count": 184,
   "outputs": [
    {
     "ename": "KeyError",
     "evalue": "'Catalysis96152'",
     "output_type": "error",
     "traceback": [
      "\u001B[0;31m---------------------------------------------------------------------------\u001B[0m",
      "\u001B[0;31mKeyError\u001B[0m                                  Traceback (most recent call last)",
      "\u001B[0;32m/var/folders/ck/2rghhzss35l9n7p_pprbznjm0000gn/T/ipykernel_7441/2785047007.py\u001B[0m in \u001B[0;36m<module>\u001B[0;34m\u001B[0m\n\u001B[0;32m----> 1\u001B[0;31m \u001B[0mreac\u001B[0m \u001B[0;34m=\u001B[0m \u001B[0mmodel\u001B[0m\u001B[0;34m.\u001B[0m\u001B[0mobjects\u001B[0m\u001B[0;34m[\u001B[0m\u001B[0;34m\"Catalysis96152\"\u001B[0m\u001B[0;34m]\u001B[0m\u001B[0;34m\u001B[0m\u001B[0;34m\u001B[0m\u001B[0m\n\u001B[0m",
      "\u001B[0;31mKeyError\u001B[0m: 'Catalysis96152'"
     ]
    }
   ],
   "source": [
    "reac = model.objects[\"Pathway95182\"]"
   ],
   "metadata": {
    "collapsed": false
   }
  },
  {
   "cell_type": "code",
   "execution_count": 229,
   "outputs": [
    {
     "data": {
      "text/plain": "[Complex(2-oxoglutarate dehydrogenase complex)]"
     },
     "execution_count": 229,
     "metadata": {},
     "output_type": "execute_result"
    }
   ],
   "source": [
    "reac.pathway_order.step_process.controller"
   ],
   "metadata": {
    "collapsed": false
   }
  },
  {
   "cell_type": "code",
   "execution_count": 230,
   "outputs": [
    {
     "data": {
      "text/plain": "['__add__',\n '__class__',\n '__contains__',\n '__delattr__',\n '__delitem__',\n '__dir__',\n '__doc__',\n '__eq__',\n '__format__',\n '__ge__',\n '__getattribute__',\n '__getitem__',\n '__gt__',\n '__hash__',\n '__iadd__',\n '__imul__',\n '__init__',\n '__init_subclass__',\n '__iter__',\n '__le__',\n '__len__',\n '__lt__',\n '__mul__',\n '__ne__',\n '__new__',\n '__reduce__',\n '__reduce_ex__',\n '__repr__',\n '__reversed__',\n '__rmul__',\n '__setattr__',\n '__setitem__',\n '__sizeof__',\n '__str__',\n '__subclasshook__',\n 'append',\n 'clear',\n 'copy',\n 'count',\n 'extend',\n 'index',\n 'insert',\n 'pop',\n 'remove',\n 'reverse',\n 'sort']"
     },
     "execution_count": 230,
     "metadata": {},
     "output_type": "execute_result"
    }
   ],
   "source": [
    "dir(reac.pathway_order.step_process.controller)"
   ],
   "metadata": {
    "collapsed": false
   }
  },
  {
   "cell_type": "code",
   "execution_count": 165,
   "outputs": [
    {
     "data": {
      "text/plain": "[SmallMolecule(NADH),\n SmallMolecule(CO<SUB>2</SUB>),\n SmallMolecule(2-oxoglutarate)]"
     },
     "execution_count": 165,
     "metadata": {},
     "output_type": "execute_result"
    }
   ],
   "source": [
    "list(model.objects[\"Pathway95182\"].pathway_order._next_step_of)[0].step_conversion.right"
   ],
   "metadata": {
    "collapsed": false
   }
  },
  {
   "cell_type": "code",
   "execution_count": null,
   "outputs": [],
   "source": [],
   "metadata": {
    "collapsed": false
   }
  }
 ],
 "metadata": {
  "kernelspec": {
   "display_name": "Python 3",
   "language": "python",
   "name": "python3"
  },
  "language_info": {
   "codemirror_mode": {
    "name": "ipython",
    "version": 2
   },
   "file_extension": ".py",
   "mimetype": "text/x-python",
   "name": "python",
   "nbconvert_exporter": "python",
   "pygments_lexer": "ipython2",
   "version": "2.7.6"
  }
 },
 "nbformat": 4,
 "nbformat_minor": 0
}
